{
 "cells": [
  {
   "cell_type": "code",
   "execution_count": 1,
   "metadata": {},
   "outputs": [],
   "source": [
    "import scaning_message\n",
    "import requests\n",
    "import telebot\n",
    "import os\n",
    "import time"
   ]
  },
  {
   "cell_type": "code",
   "execution_count": 2,
   "metadata": {},
   "outputs": [],
   "source": [
    "token = '1442353492:AAHVzSVywuImKsNrb3ULcQ9wCgCK9YdYQ0A'\n",
    "bot= telebot.TeleBot(token)"
   ]
  },
  {
   "cell_type": "code",
   "execution_count": null,
   "metadata": {},
   "outputs": [],
   "source": [
    "@bot.message_handler(commands=['start'])\n",
    "def hi(message):\n",
    "    if message.from_user.username==\"I_Keksik\":\n",
    "        bot.send_message(message.chat.id, f\"Я здесь, мой господин\")\n",
    "    else:\n",
    "        bot.send_message(message.chat.id, f\"включён и готов к работе\")\n",
    "\n",
    "@bot.message_handler(content_types=['text'])\n",
    "def get_text_messages(message):\n",
    "    aggry_flag= scaning_message.text_scan(message.text)\n",
    "        \n",
    "    if aggry_flag == 1:\n",
    "        bot.send_message(message.chat.id, f\" @{message.from_user.username} если ты не перестанешь ругаться, мне придётся тебя отшлёпать\")\n",
    "        \n",
    "        bot.delete_message(message.chat.id, message.message_id)\n",
    "\n",
    "\n",
    "@bot.message_handler(content_types=['voice'])\n",
    "def get_text_messages(message):\n",
    "    start_time = time.time()#измеряем время необходимое для распознования\n",
    "    \n",
    "    bot.send_message(message.chat.id, f\" я получил аудио\")\n",
    "    \n",
    "    \n",
    "    file_info = bot.get_file(message.voice.file_id)\n",
    "    file = requests.get('https://api.telegram.org/file/bot{0}/{1}'.format(token, file_info.file_path))\n",
    "    \n",
    "    with open('voice.ogg','wb') as f:\n",
    "        f.write(file.content)\n",
    "    bot.send_message(message.chat.id, f\"аудио :{scaning_message.audio_to_txt('voice.ogg')}\")\n",
    "    bot.send_message(message.chat.id, f\"Для распознования потребовалось времени :{time.time()-start_time} seconds\")\n",
    "    \n",
    "    \n",
    "    aggry_flag= scaning_message.audio_scan('voice.ogg')\n",
    "    os.system(f'rm voice.ogg')\n",
    "    if aggry_flag == 1:\n",
    "        bot.send_message(message.chat.id, f\" @{message.from_user.username} если ты не перестанешь ругаться, мне придётся тебя отшлёпать\")\n",
    "        \n",
    "        bot.delete_message(message.chat.id, message.message_id)\n",
    "    else:\n",
    "        bot.send_message(message.chat.id, f\" Плохих слов не найдено\")\n",
    "        \n",
    "\n",
    "bot.polling(none_stop=True, interval =0)\n",
    "\n"
   ]
  },
  {
   "cell_type": "code",
   "execution_count": null,
   "metadata": {},
   "outputs": [],
   "source": []
  },
  {
   "cell_type": "code",
   "execution_count": null,
   "metadata": {},
   "outputs": [],
   "source": []
  }
 ],
 "metadata": {
  "kernelspec": {
   "display_name": "Python 3",
   "language": "python",
   "name": "python3"
  },
  "language_info": {
   "codemirror_mode": {
    "name": "ipython",
    "version": 3
   },
   "file_extension": ".py",
   "mimetype": "text/x-python",
   "name": "python",
   "nbconvert_exporter": "python",
   "pygments_lexer": "ipython3",
   "version": "3.8.5"
  }
 },
 "nbformat": 4,
 "nbformat_minor": 4
}
