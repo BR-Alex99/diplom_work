{
 "cells": [
  {
   "cell_type": "code",
   "execution_count": 2,
   "id": "visible-needle",
   "metadata": {},
   "outputs": [],
   "source": [
    "import requests\n",
    "import time\n",
    "import os\n",
    "\n",
    "\n",
    "import sys"
   ]
  },
  {
   "cell_type": "code",
   "execution_count": 3,
   "id": "amended-ethiopia",
   "metadata": {},
   "outputs": [],
   "source": [
    "def progress(count, total, suffix=''):\n",
    "    bar_len = 40\n",
    "    filled_len = int(round(bar_len * count / float(total)))\n",
    "\n",
    "    percents = round(100.0 * count / float(total), 1)\n",
    "    bar = '=' * filled_len + '-' * (bar_len - filled_len)\n",
    "\n",
    "    sys.stdout.write('[%s] %s%s ...%s\\r' % (bar, percents, '%', suffix))\n",
    "    sys.stdout.flush()"
   ]
  },
  {
   "cell_type": "code",
   "execution_count": 8,
   "id": "supposed-optimum",
   "metadata": {},
   "outputs": [],
   "source": [
    "token='643dd249643dd249643dd24930644bfe6a6643d643dd2490429cdcc16ee285c8a3e0f90'\n",
    "version='5.52'\n",
    "domains=['public55827701','public172286519','public65781900','public159447813']"
   ]
  },
  {
   "cell_type": "code",
   "execution_count": 9,
   "id": "tender-aurora",
   "metadata": {},
   "outputs": [],
   "source": [
    "def get_grop_id(domain):\n",
    "    response= requests.get('https://api.vk.com/method/wall.get',\n",
    "                                 params={\n",
    "                                     'access_token':token,\n",
    "                                     'v':version,\n",
    "                                     'domain':domain,\n",
    "                                     'count':1\n",
    "                                 })\n",
    "    data=response.json()['response']['items']\n",
    "    return (data[0]['owner_id'])\n",
    "\n",
    "\n",
    "def get_1000_post_id(domain):\n",
    "    offset=0\n",
    "    count=100\n",
    "    posts_id=[]\n",
    "    for i in range (10):\n",
    "        response= requests.get('https://api.vk.com/method/wall.get',\n",
    "                             params={\n",
    "                                 'access_token':token,\n",
    "                                 'v':version,\n",
    "                                 'domain':domain,\n",
    "                                 'count':count,\n",
    "                                 'offset':offset\n",
    "                             })\n",
    "        data=response.json()['response']['items']\n",
    "        for post in data:\n",
    "            posts_id.append(post['id'])\n",
    "        offset+=count\n",
    "    return(posts_id)\n",
    "\n",
    "\n",
    "def get_100_coments_under_post(group_id,post_id):\n",
    "    count=100\n",
    "    messeges=[]\n",
    "    response= requests.get('https://api.vk.com/method/wall.getComments',\n",
    "                             params={\n",
    "                                 'access_token':token,\n",
    "                                 'v':version,\n",
    "                                 'count':count,\n",
    "                                 'post_id':post_id,\n",
    "                                 'owner_id':group_id\n",
    "                             })\n",
    "    coments=response.json()['response']['items']\n",
    "    for coment in coments:\n",
    "        messeges.append(coment['text'])\n",
    "        \n",
    "    return(messeges)\n",
    "\n",
    "#функция возвращает лист коментрариве написаных под первыми тысячью постами в группе, \n",
    "#при этом под одним постом берёться не более 100 коментариве\n",
    "def get_all_comenst_in_group(domain): \n",
    "    group_id=get_grop_id(domain)\n",
    "    list_post_id_in_group=get_1000_post_id(domain)\n",
    "    all_comenst_in_group=[]\n",
    "    count=0\n",
    "    for post_id in list_post_id_in_group:\n",
    "        comensts_under_post=get_100_coments_under_post(group_id,post_id)\n",
    "        all_comenst_in_group+=comensts_under_post\n",
    "        count+=1\n",
    "        progress(count , len(list_post_id_in_group), f'обработанно в группе {domain}')\n",
    "        \n",
    "\n",
    "    return all_comenst_in_group"
   ]
  },
  {
   "cell_type": "code",
   "execution_count": 10,
   "id": "productive-slovenia",
   "metadata": {
    "scrolled": true
   },
   "outputs": [
    {
     "ename": "KeyError",
     "evalue": "'response'",
     "output_type": "error",
     "traceback": [
      "\u001b[0;31m---------------------------------------------------------------------------\u001b[0m",
      "\u001b[0;31mKeyError\u001b[0m                                  Traceback (most recent call last)",
      "\u001b[0;32m<ipython-input-10-c61b72efe965>\u001b[0m in \u001b[0;36m<module>\u001b[0;34m\u001b[0m\n\u001b[1;32m      4\u001b[0m \u001b[0;32mfor\u001b[0m \u001b[0mdomain\u001b[0m \u001b[0;32min\u001b[0m \u001b[0mdomains\u001b[0m\u001b[0;34m:\u001b[0m\u001b[0;34m\u001b[0m\u001b[0;34m\u001b[0m\u001b[0m\n\u001b[1;32m      5\u001b[0m     \u001b[0m_local_start_time\u001b[0m \u001b[0;34m=\u001b[0m \u001b[0mtime\u001b[0m\u001b[0;34m.\u001b[0m\u001b[0mtime\u001b[0m\u001b[0;34m(\u001b[0m\u001b[0;34m)\u001b[0m\u001b[0;34m\u001b[0m\u001b[0;34m\u001b[0m\u001b[0m\n\u001b[0;32m----> 6\u001b[0;31m     \u001b[0mdata\u001b[0m\u001b[0;34m=\u001b[0m\u001b[0mget_all_comenst_in_group\u001b[0m\u001b[0;34m(\u001b[0m\u001b[0mdomain\u001b[0m\u001b[0;34m)\u001b[0m\u001b[0;34m\u001b[0m\u001b[0;34m\u001b[0m\u001b[0m\n\u001b[0m\u001b[1;32m      7\u001b[0m     \u001b[0mcount_all_coments\u001b[0m\u001b[0;34m+=\u001b[0m\u001b[0mlen\u001b[0m\u001b[0;34m(\u001b[0m\u001b[0mdata\u001b[0m\u001b[0;34m)\u001b[0m\u001b[0;34m\u001b[0m\u001b[0;34m\u001b[0m\u001b[0m\n\u001b[1;32m      8\u001b[0m     \u001b[0mfile\u001b[0m\u001b[0;34m=\u001b[0m\u001b[0mopen\u001b[0m\u001b[0;34m(\u001b[0m\u001b[0;34m'coments.txt'\u001b[0m\u001b[0;34m,\u001b[0m\u001b[0;34m'a'\u001b[0m\u001b[0;34m)\u001b[0m\u001b[0;34m\u001b[0m\u001b[0;34m\u001b[0m\u001b[0m\n",
      "\u001b[0;32m<ipython-input-9-9b7b917b93fb>\u001b[0m in \u001b[0;36mget_all_comenst_in_group\u001b[0;34m(domain)\u001b[0m\n\u001b[1;32m     51\u001b[0m \u001b[0;31m#при этом под одним постом берёться не более 100 коментариве\u001b[0m\u001b[0;34m\u001b[0m\u001b[0;34m\u001b[0m\u001b[0;34m\u001b[0m\u001b[0m\n\u001b[1;32m     52\u001b[0m \u001b[0;32mdef\u001b[0m \u001b[0mget_all_comenst_in_group\u001b[0m\u001b[0;34m(\u001b[0m\u001b[0mdomain\u001b[0m\u001b[0;34m)\u001b[0m\u001b[0;34m:\u001b[0m\u001b[0;34m\u001b[0m\u001b[0;34m\u001b[0m\u001b[0m\n\u001b[0;32m---> 53\u001b[0;31m     \u001b[0mgroup_id\u001b[0m\u001b[0;34m=\u001b[0m\u001b[0mget_grop_id\u001b[0m\u001b[0;34m(\u001b[0m\u001b[0mdomain\u001b[0m\u001b[0;34m)\u001b[0m\u001b[0;34m\u001b[0m\u001b[0;34m\u001b[0m\u001b[0m\n\u001b[0m\u001b[1;32m     54\u001b[0m     \u001b[0mlist_post_id_in_group\u001b[0m\u001b[0;34m=\u001b[0m\u001b[0mget_1000_post_id\u001b[0m\u001b[0;34m(\u001b[0m\u001b[0mdomain\u001b[0m\u001b[0;34m)\u001b[0m\u001b[0;34m\u001b[0m\u001b[0;34m\u001b[0m\u001b[0m\n\u001b[1;32m     55\u001b[0m     \u001b[0mall_comenst_in_group\u001b[0m\u001b[0;34m=\u001b[0m\u001b[0;34m[\u001b[0m\u001b[0;34m]\u001b[0m\u001b[0;34m\u001b[0m\u001b[0;34m\u001b[0m\u001b[0m\n",
      "\u001b[0;32m<ipython-input-9-9b7b917b93fb>\u001b[0m in \u001b[0;36mget_grop_id\u001b[0;34m(domain)\u001b[0m\n\u001b[1;32m      7\u001b[0m                                      \u001b[0;34m'count'\u001b[0m\u001b[0;34m:\u001b[0m\u001b[0;36m1\u001b[0m\u001b[0;34m\u001b[0m\u001b[0;34m\u001b[0m\u001b[0m\n\u001b[1;32m      8\u001b[0m                                  })\n\u001b[0;32m----> 9\u001b[0;31m     \u001b[0mdata\u001b[0m\u001b[0;34m=\u001b[0m\u001b[0mresponse\u001b[0m\u001b[0;34m.\u001b[0m\u001b[0mjson\u001b[0m\u001b[0;34m(\u001b[0m\u001b[0;34m)\u001b[0m\u001b[0;34m[\u001b[0m\u001b[0;34m'response'\u001b[0m\u001b[0;34m]\u001b[0m\u001b[0;34m[\u001b[0m\u001b[0;34m'items'\u001b[0m\u001b[0;34m]\u001b[0m\u001b[0;34m\u001b[0m\u001b[0;34m\u001b[0m\u001b[0m\n\u001b[0m\u001b[1;32m     10\u001b[0m     \u001b[0;32mreturn\u001b[0m \u001b[0;34m(\u001b[0m\u001b[0mdata\u001b[0m\u001b[0;34m[\u001b[0m\u001b[0;36m0\u001b[0m\u001b[0;34m]\u001b[0m\u001b[0;34m[\u001b[0m\u001b[0;34m'owner_id'\u001b[0m\u001b[0;34m]\u001b[0m\u001b[0;34m)\u001b[0m\u001b[0;34m\u001b[0m\u001b[0;34m\u001b[0m\u001b[0m\n\u001b[1;32m     11\u001b[0m \u001b[0;34m\u001b[0m\u001b[0m\n",
      "\u001b[0;31mKeyError\u001b[0m: 'response'"
     ]
    }
   ],
   "source": [
    "#парсинг\n",
    "start_time = time.time()\n",
    "count_all_coments=0\n",
    "for domain in domains:\n",
    "    _local_start_time = time.time()\n",
    "    data=get_all_comenst_in_group(domain)\n",
    "    count_all_coments+=len(data)\n",
    "    file=open('coments.txt','a')\n",
    "    for line in data:\n",
    "        file.write(line + '\\n')\n",
    "    file.close()\n",
    "    print(f\"Спаршена группа {domain}, количество сохраненных коментариев {len(data)} это заняло {(time.time() -  _local_start_time)//60} минут\")\n",
    "print(f\"Спаршены все группы, количество сохраненных коментариев {(count_all_coments)} это заняло {(time.time() -  start_time)//60} минут\")"
   ]
  },
  {
   "cell_type": "code",
   "execution_count": 7,
   "id": "dominant-costume",
   "metadata": {},
   "outputs": [
    {
     "ename": "NameError",
     "evalue": "name 'response' is not defined",
     "output_type": "error",
     "traceback": [
      "\u001b[0;31m---------------------------------------------------------------------------\u001b[0m",
      "\u001b[0;31mNameError\u001b[0m                                 Traceback (most recent call last)",
      "\u001b[0;32m<ipython-input-7-ab0153f39f33>\u001b[0m in \u001b[0;36m<module>\u001b[0;34m\u001b[0m\n\u001b[0;32m----> 1\u001b[0;31m \u001b[0mresponse\u001b[0m\u001b[0;34m\u001b[0m\u001b[0;34m\u001b[0m\u001b[0m\n\u001b[0m",
      "\u001b[0;31mNameError\u001b[0m: name 'response' is not defined"
     ]
    }
   ],
   "source": [
    "response"
   ]
  },
  {
   "cell_type": "code",
   "execution_count": null,
   "id": "focused-verification",
   "metadata": {},
   "outputs": [],
   "source": [
    "'rospil','kod','ovnocode','killmepls_page','indulgencia','mhkoff','nastukano','pn6','v_kmp',\n",
    "        'nastukano','pozor','nepublic','marvel_dc','naivnyjolen','lirita_comic'\n",
    "    'haha_ski',\"husky.ilove\",'leathergay','bdsmkaaa','proglib'"
   ]
  }
 ],
 "metadata": {
  "kernelspec": {
   "display_name": "Python 3",
   "language": "python",
   "name": "python3"
  },
  "language_info": {
   "codemirror_mode": {
    "name": "ipython",
    "version": 3
   },
   "file_extension": ".py",
   "mimetype": "text/x-python",
   "name": "python",
   "nbconvert_exporter": "python",
   "pygments_lexer": "ipython3",
   "version": "3.8.5"
  }
 },
 "nbformat": 4,
 "nbformat_minor": 5
}
